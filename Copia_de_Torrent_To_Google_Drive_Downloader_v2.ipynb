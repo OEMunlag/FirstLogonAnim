{
  "nbformat": 4,
  "nbformat_minor": 0,
  "metadata": {
    "colab": {
      "provenance": [],
      "include_colab_link": true
    },
    "kernelspec": {
      "name": "python3",
      "display_name": "Python 3"
    },
    "gpuClass": "standard"
  },
  "cells": [
    {
      "cell_type": "markdown",
      "metadata": {
        "id": "view-in-github",
        "colab_type": "text"
      },
      "source": [
        "<a href=\"https://colab.research.google.com/github/OEMunlag/FirstLogonAnim/blob/main/Copia_de_Torrent_To_Google_Drive_Downloader_v2.ipynb\" target=\"_parent\"><img src=\"https://colab.research.google.com/assets/colab-badge.svg\" alt=\"Open In Colab\"/></a>"
      ]
    },
    {
      "cell_type": "markdown",
      "metadata": {
        "id": "aQuWDmfm9YOi"
      },
      "source": [
        "# Torrent To Google Drive Downloader v2"
      ]
    },
    {
      "cell_type": "markdown",
      "metadata": {
        "id": "Uf90U73y9YOj"
      },
      "source": [
        "### Mount Google Drive\n",
        "To stream files we need to mount Google Drive."
      ]
    },
    {
      "cell_type": "code",
      "metadata": {
        "id": "oWM9l2fvtuvO",
        "outputId": "efd7516a-3472-4c72-f3e6-be03d68658cb",
        "colab": {
          "base_uri": "https://localhost:8080/"
        }
      },
      "source": [
        "#from google.colab import drive\n",
        "#drive.mount('/content/drive')\n",
        "#!sudo add-apt-repository ppa:savoury1/backports\n",
        "#!sudo apt-get update\n",
        "#!sudo apt-get install aria2\n",
        "!aria2c --max-concurrent-downloads=50 --max-connection-per-server=16  -i /content/list1.txt -d \"/content/drive/Shareddrives/Windows parte 1\""
      ],
      "execution_count": 4,
      "outputs": [
        {
          "output_type": "stream",
          "name": "stdout",
          "text": [
            "\n",
            "02/19 14:38:40 [\u001b[1;32mNOTICE\u001b[0m] Downloading 32 item(s)\n",
            "\u001b[0m\n",
            "02/19 14:38:41 [\u001b[1;31mERROR\u001b[0m] CUID#17 - Download aborted. URI=https://stuff.mtt-m1.workers.dev/Windows%2010/Windows%2010%20Enterprise%20LTSB%202015/cs_windows_10_enterprise_2015_ltsb_x64_dvd_6848435.iso\n",
            "Exception: [AbstractCommand.cc:351] errorCode=22 URI=https://stuff.mtt-m1.workers.dev/Windows%2010/Windows%2010%20Enterprise%20LTSB%202015/cs_windows_10_enterprise_2015_ltsb_x64_dvd_6848435.iso\n",
            "  -> [HttpSkipResponseCommand.cc:239] errorCode=22 The response status is not successful. status=500\n",
            "\n",
            "02/19 14:38:41 [\u001b[1;32mNOTICE\u001b[0m] Download GID#d691e38a805c6fdc not complete: \n",
            "\n",
            "02/19 14:38:41 [\u001b[1;31mERROR\u001b[0m] CUID#24 - Download aborted. URI=https://stuff.mtt-m1.workers.dev/Windows%2010/Windows%2010%20Enterprise%20LTSB%202015/de_windows_10_enterprise_2015_ltsb_n_x86_dvd_6848329.iso\n",
            "Exception: [AbstractCommand.cc:351] errorCode=22 URI=https://stuff.mtt-m1.workers.dev/Windows%2010/Windows%2010%20Enterprise%20LTSB%202015/de_windows_10_enterprise_2015_ltsb_n_x86_dvd_6848329.iso\n",
            "  -> [HttpSkipResponseCommand.cc:239] errorCode=22 The response status is not successful. status=500\n",
            "\n",
            "02/19 14:38:41 [\u001b[1;32mNOTICE\u001b[0m] Download GID#cc10dbedd897b1f5 not complete: \n",
            "\n",
            "02/19 14:38:41 [\u001b[1;31mERROR\u001b[0m] CUID#36 - Download aborted. URI=https://stuff.mtt-m1.workers.dev/Windows%2010/Windows%2010%20Enterprise%20LTSB%202015/en_windows_10_enterprise_2015_ltsb_n_x86_dvd_6848317.iso\n",
            "Exception: [AbstractCommand.cc:351] errorCode=22 URI=https://stuff.mtt-m1.workers.dev/Windows%2010/Windows%2010%20Enterprise%20LTSB%202015/en_windows_10_enterprise_2015_ltsb_n_x86_dvd_6848317.iso\n",
            "  -> [HttpSkipResponseCommand.cc:239] errorCode=22 The response status is not successful. status=500\n",
            "\n",
            "02/19 14:38:41 [\u001b[1;32mNOTICE\u001b[0m] Download GID#3c54bfb2a68bbecd not complete: \n",
            "\n",
            "02/19 14:38:41 [\u001b[1;31mERROR\u001b[0m] CUID#30 - Download aborted. URI=https://stuff.mtt-m1.workers.dev/Windows%2010/Windows%2010%20Enterprise%20LTSB%202015/el_windows_10_enterprise_2015_ltsb_x86_dvd_6848476.iso\n",
            "Exception: [AbstractCommand.cc:351] errorCode=22 URI=https://stuff.mtt-m1.workers.dev/Windows%2010/Windows%2010%20Enterprise%20LTSB%202015/el_windows_10_enterprise_2015_ltsb_x86_dvd_6848476.iso\n",
            "  -> [HttpSkipResponseCommand.cc:239] errorCode=22 The response status is not successful. status=500\n",
            "\n",
            "02/19 14:38:41 [\u001b[1;32mNOTICE\u001b[0m] Download GID#fdc42427bbc37766 not complete: \n",
            "\n",
            "02/19 14:38:41 [\u001b[1;31mERROR\u001b[0m] CUID#23 - Download aborted. URI=https://stuff.mtt-m1.workers.dev/Windows%2010/Windows%2010%20Enterprise%20LTSB%202015/de_windows_10_enterprise_2015_ltsb_n_x64_dvd_6848328.iso\n",
            "Exception: [AbstractCommand.cc:351] errorCode=22 URI=https://stuff.mtt-m1.workers.dev/Windows%2010/Windows%2010%20Enterprise%20LTSB%202015/de_windows_10_enterprise_2015_ltsb_n_x64_dvd_6848328.iso\n",
            "  -> [HttpSkipResponseCommand.cc:239] errorCode=22 The response status is not successful. status=500\n",
            "\n",
            "02/19 14:38:41 [\u001b[1;32mNOTICE\u001b[0m] Download GID#d0379526bed5cb2b not complete: \n",
            "\n",
            "02/19 14:38:41 [\u001b[1;31mERROR\u001b[0m] CUID#38 - Download aborted. URI=https://stuff.mtt-m1.workers.dev/Windows%2010/Windows%2010%20Enterprise%20LTSB%202015/en_windows_10_enterprise_2015_ltsb_x86_dvd_6848454.iso\n",
            "Exception: [AbstractCommand.cc:351] errorCode=22 URI=https://stuff.mtt-m1.workers.dev/Windows%2010/Windows%2010%20Enterprise%20LTSB%202015/en_windows_10_enterprise_2015_ltsb_x86_dvd_6848454.iso\n",
            "  -> [HttpSkipResponseCommand.cc:239] errorCode=22 The response status is not successful. status=500\n",
            "\n",
            "02/19 14:38:41 [\u001b[1;32mNOTICE\u001b[0m] Download GID#92612c4ca5478434 not complete: \n",
            "\n",
            "02/19 14:38:41 [\u001b[1;32mNOTICE\u001b[0m] Allocating disk space. Use --file-allocation=none to disable it. See --file-allocation option in man page for more details.\n",
            "\u001b[0m\n",
            "02/19 14:39:08 [\u001b[1;32mNOTICE\u001b[0m] Shutdown sequence commencing... Press Ctrl-C again for emergency shutdown.\n",
            "\n",
            "02/19 14:39:09 [\u001b[1;32mNOTICE\u001b[0m] Download GID#e5a71ebb2cccc8a1 not complete: /content/drive/Shareddrives/Windows parte 1/ar_windows_10_enterprise_2015_ltsb_x64_dvd_6848420.iso\n",
            "\n",
            "02/19 14:39:09 [\u001b[1;32mNOTICE\u001b[0m] Download GID#56351fd2fbe427f5 not complete: /content/drive/Shareddrives/Windows parte 1/cs_windows_10_enterprise_2015_ltsb_n_x64_dvd_6848309.iso\n",
            "\n",
            "Download Results:\n",
            "gid   |stat|avg speed  |path/URI\n",
            "======+====+===========+=======================================================\n",
            "d691e3|\u001b[1;31mERR\u001b[0m |       0B/s|https://stuff.mtt-m1.workers.dev/Windows%2010/Windows%2010%20Enterprise%20LTSB%202015/cs_windows_10_enterprise_2015_ltsb_x64_dvd_6848435.iso\n",
            "cc10db|\u001b[1;31mERR\u001b[0m |       0B/s|https://stuff.mtt-m1.workers.dev/Windows%2010/Windows%2010%20Enterprise%20LTSB%202015/de_windows_10_enterprise_2015_ltsb_n_x86_dvd_6848329.iso\n",
            "3c54bf|\u001b[1;31mERR\u001b[0m |       0B/s|https://stuff.mtt-m1.workers.dev/Windows%2010/Windows%2010%20Enterprise%20LTSB%202015/en_windows_10_enterprise_2015_ltsb_n_x86_dvd_6848317.iso\n",
            "fdc424|\u001b[1;31mERR\u001b[0m |       0B/s|https://stuff.mtt-m1.workers.dev/Windows%2010/Windows%2010%20Enterprise%20LTSB%202015/el_windows_10_enterprise_2015_ltsb_x86_dvd_6848476.iso\n",
            "d03795|\u001b[1;31mERR\u001b[0m |       0B/s|https://stuff.mtt-m1.workers.dev/Windows%2010/Windows%2010%20Enterprise%20LTSB%202015/de_windows_10_enterprise_2015_ltsb_n_x64_dvd_6848328.iso\n",
            "92612c|\u001b[1;31mERR\u001b[0m |       0B/s|https://stuff.mtt-m1.workers.dev/Windows%2010/Windows%2010%20Enterprise%20LTSB%202015/en_windows_10_enterprise_2015_ltsb_x86_dvd_6848454.iso\n",
            "e5a71e|\u001b[1;34mINPR\u001b[0m|    21MiB/s|/content/drive/Shareddrives/Windows parte 1/ar_windows_10_enterprise_2015_ltsb_x64_dvd_6848420.iso\n",
            "56351f|\u001b[1;34mINPR\u001b[0m|       0B/s|/content/drive/Shareddrives/Windows parte 1/cs_windows_10_enterprise_2015_ltsb_n_x64_dvd_6848309.iso\n",
            "\n",
            "Status Legend:\n",
            "(ERR):error occurred.(INPR):download in-progress.\n",
            "\n",
            "aria2 will resume download if the transfer is restarted.\n",
            "If there are any errors, then see the log file. See '-l' option in help/man page for details.\n"
          ]
        }
      ]
    },
    {
      "cell_type": "markdown",
      "metadata": {
        "id": "FexiyATtNwTG"
      },
      "source": [
        "###Dependency\n",
        "https://www.libtorrent.org/"
      ]
    },
    {
      "cell_type": "code",
      "metadata": {
        "id": "m6hF0emftx4h",
        "outputId": "49fc3c7e-6b1f-42e7-853a-8cba97e434ff",
        "colab": {
          "base_uri": "https://localhost:8080/"
        }
      },
      "source": [
        "!aria2c --max-concurrent-downloads=50 --max-connection-per-server=16  -i /content/list2.txt -d \"/content/drive/Shareddrives/Windows parte 2\""
      ],
      "execution_count": 2,
      "outputs": [
        {
          "output_type": "stream",
          "name": "stdout",
          "text": [
            "\n",
            "02/19 14:32:28 [\u001b[1;32mNOTICE\u001b[0m] Downloading 22 item(s)\n",
            "\u001b[0m\n",
            "02/19 14:32:29 [\u001b[1;31mERROR\u001b[0m] CUID#13 - Download aborted. URI=https://stuff.mtt-m1.workers.dev/Windows%2010/Windows%2010%20Enterprise%20LTSB%202015/et_windows_10_enterprise_2015_ltsb_x64_dvd_6848458.iso\n",
            "Exception: [AbstractCommand.cc:351] errorCode=22 URI=https://stuff.mtt-m1.workers.dev/Windows%2010/Windows%2010%20Enterprise%20LTSB%202015/et_windows_10_enterprise_2015_ltsb_x64_dvd_6848458.iso\n",
            "  -> [HttpSkipResponseCommand.cc:239] errorCode=22 The response status is not successful. status=500\n",
            "\n",
            "02/19 14:32:29 [\u001b[1;32mNOTICE\u001b[0m] Download GID#94ee96a928f9adfc not complete: \n",
            "\n",
            "02/19 14:32:29 [\u001b[1;31mERROR\u001b[0m] CUID#19 - Download aborted. URI=https://stuff.mtt-m1.workers.dev/Windows%2010/Windows%2010%20Enterprise%20LTSB%202015/fr-ca_windows_10_enterprise_2015_ltsb_x64_dvd_6848470.iso\n",
            "Exception: [AbstractCommand.cc:351] errorCode=22 URI=https://stuff.mtt-m1.workers.dev/Windows%2010/Windows%2010%20Enterprise%20LTSB%202015/fr-ca_windows_10_enterprise_2015_ltsb_x64_dvd_6848470.iso\n",
            "  -> [HttpSkipResponseCommand.cc:239] errorCode=22 The response status is not successful. status=500\n",
            "\n",
            "02/19 14:32:29 [\u001b[1;32mNOTICE\u001b[0m] Download GID#8e2aad1374e4f2d9 not complete: \n",
            "\n",
            "02/19 14:32:29 [\u001b[1;31mERROR\u001b[0m] CUID#25 - Download aborted. URI=https://stuff.mtt-m1.workers.dev/Windows%2010/Windows%2010%20Enterprise%20LTSB%202015/he_windows_10_enterprise_2015_ltsb_x64_dvd_6848477.iso\n",
            "Exception: [AbstractCommand.cc:351] errorCode=22 URI=https://stuff.mtt-m1.workers.dev/Windows%2010/Windows%2010%20Enterprise%20LTSB%202015/he_windows_10_enterprise_2015_ltsb_x64_dvd_6848477.iso\n",
            "  -> [HttpSkipResponseCommand.cc:239] errorCode=22 The response status is not successful. status=500\n",
            "\n",
            "02/19 14:32:29 [\u001b[1;32mNOTICE\u001b[0m] Download GID#7dffefe51a25db30 not complete: \n",
            "\n",
            "02/19 14:32:29 [\u001b[1;31mERROR\u001b[0m] CUID#24 - Download aborted. URI=https://stuff.mtt-m1.workers.dev/Windows%2010/Windows%2010%20Enterprise%20LTSB%202015/fr_windows_10_enterprise_2015_ltsb_x86_dvd_6848468.iso\n",
            "Exception: [AbstractCommand.cc:351] errorCode=22 URI=https://stuff.mtt-m1.workers.dev/Windows%2010/Windows%2010%20Enterprise%20LTSB%202015/fr_windows_10_enterprise_2015_ltsb_x86_dvd_6848468.iso\n",
            "  -> [HttpSkipResponseCommand.cc:239] errorCode=22 The response status is not successful. status=500\n",
            "\n",
            "02/19 14:32:29 [\u001b[1;32mNOTICE\u001b[0m] Download GID#52fcadbf3bf67aee not complete: \n",
            "\n",
            "02/19 14:32:30 [\u001b[1;32mNOTICE\u001b[0m] Allocating disk space. Use --file-allocation=none to disable it. See --file-allocation option in man page for more details.\n",
            "\n",
            "02/19 14:32:30 [\u001b[1;31mERROR\u001b[0m] CUID#10 - Download aborted. URI=https://stuff.mtt-m1.workers.dev/Windows%2010/Windows%2010%20Enterprise%20LTSB%202015/es_windows_10_enterprise_2015_ltsb_x86_dvd_6850896.iso\n",
            "Exception: [AbstractCommand.cc:351] errorCode=22 URI=https://stuff.mtt-m1.workers.dev/Windows%2010/Windows%2010%20Enterprise%20LTSB%202015/es_windows_10_enterprise_2015_ltsb_x86_dvd_6850896.iso\n",
            "  -> [HttpSkipResponseCommand.cc:239] errorCode=22 The response status is not successful. status=500\n",
            "\n",
            "02/19 14:32:30 [\u001b[1;31mERROR\u001b[0m] CUID#14 - Download aborted. URI=https://stuff.mtt-m1.workers.dev/Windows%2010/Windows%2010%20Enterprise%20LTSB%202015/et_windows_10_enterprise_2015_ltsb_x86_dvd_6848460.iso\n",
            "Exception: [AbstractCommand.cc:351] errorCode=22 URI=https://stuff.mtt-m1.workers.dev/Windows%2010/Windows%2010%20Enterprise%20LTSB%202015/et_windows_10_enterprise_2015_ltsb_x86_dvd_6848460.iso\n",
            "  -> [HttpSkipResponseCommand.cc:239] errorCode=22 The response status is not successful. status=500\n",
            "\n",
            "02/19 14:32:30 [\u001b[1;31mERROR\u001b[0m] CUID#15 - Download aborted. URI=https://stuff.mtt-m1.workers.dev/Windows%2010/Windows%2010%20Enterprise%20LTSB%202015/fi_windows_10_enterprise_2015_ltsb_n_x64_dvd_6848323.iso\n",
            "Exception: [AbstractCommand.cc:351] errorCode=22 URI=https://stuff.mtt-m1.workers.dev/Windows%2010/Windows%2010%20Enterprise%20LTSB%202015/fi_windows_10_enterprise_2015_ltsb_n_x64_dvd_6848323.iso\n",
            "  -> [HttpSkipResponseCommand.cc:239] errorCode=22 The response status is not successful. status=500\n",
            "\n",
            "02/19 14:32:30 [\u001b[1;32mNOTICE\u001b[0m] Download GID#13206b33b035570a not complete: \n",
            "\n",
            "02/19 14:32:30 [\u001b[1;32mNOTICE\u001b[0m] Download GID#39a41b55a205f9d4 not complete: \n",
            "\n",
            "02/19 14:32:30 [\u001b[1;32mNOTICE\u001b[0m] Download GID#0f3d7126da0283b0 not complete: \n",
            "\u001b[0m\n",
            "02/19 14:32:56 [\u001b[1;32mNOTICE\u001b[0m] Shutdown sequence commencing... Press Ctrl-C again for emergency shutdown.\n",
            "\n",
            "02/19 14:32:56 [\u001b[1;32mNOTICE\u001b[0m] Download GID#014a0189aa03f240 not complete: /content/drive/Shareddrives/Windows parte 2/es-mx_windows_10_enterprise_2015_ltsb_x64_dvd_6850897.iso\n",
            "\n",
            "02/19 14:32:56 [\u001b[1;32mNOTICE\u001b[0m] Download GID#12c1b060885b69be not complete: /content/drive/Shareddrives/Windows parte 2/he_windows_10_enterprise_2015_ltsb_x86_dvd_6850760.iso\n",
            "\n",
            "Download Results:\n",
            "gid   |stat|avg speed  |path/URI\n",
            "======+====+===========+=======================================================\n",
            "94ee96|\u001b[1;31mERR\u001b[0m |       0B/s|https://stuff.mtt-m1.workers.dev/Windows%2010/Windows%2010%20Enterprise%20LTSB%202015/et_windows_10_enterprise_2015_ltsb_x64_dvd_6848458.iso\n",
            "8e2aad|\u001b[1;31mERR\u001b[0m |       0B/s|https://stuff.mtt-m1.workers.dev/Windows%2010/Windows%2010%20Enterprise%20LTSB%202015/fr-ca_windows_10_enterprise_2015_ltsb_x64_dvd_6848470.iso\n",
            "7dffef|\u001b[1;31mERR\u001b[0m |       0B/s|https://stuff.mtt-m1.workers.dev/Windows%2010/Windows%2010%20Enterprise%20LTSB%202015/he_windows_10_enterprise_2015_ltsb_x64_dvd_6848477.iso\n",
            "52fcad|\u001b[1;31mERR\u001b[0m |       0B/s|https://stuff.mtt-m1.workers.dev/Windows%2010/Windows%2010%20Enterprise%20LTSB%202015/fr_windows_10_enterprise_2015_ltsb_x86_dvd_6848468.iso\n",
            "13206b|\u001b[1;31mERR\u001b[0m |       0B/s|https://stuff.mtt-m1.workers.dev/Windows%2010/Windows%2010%20Enterprise%20LTSB%202015/es_windows_10_enterprise_2015_ltsb_x86_dvd_6850896.iso\n",
            "39a41b|\u001b[1;31mERR\u001b[0m |       0B/s|https://stuff.mtt-m1.workers.dev/Windows%2010/Windows%2010%20Enterprise%20LTSB%202015/et_windows_10_enterprise_2015_ltsb_x86_dvd_6848460.iso\n",
            "0f3d71|\u001b[1;31mERR\u001b[0m |       0B/s|https://stuff.mtt-m1.workers.dev/Windows%2010/Windows%2010%20Enterprise%20LTSB%202015/fi_windows_10_enterprise_2015_ltsb_n_x64_dvd_6848323.iso\n",
            "014a01|\u001b[1;34mINPR\u001b[0m|       0B/s|/content/drive/Shareddrives/Windows parte 2/es-mx_windows_10_enterprise_2015_ltsb_x64_dvd_6850897.iso\n",
            "12c1b0|\u001b[1;34mINPR\u001b[0m|    30MiB/s|/content/drive/Shareddrives/Windows parte 2/he_windows_10_enterprise_2015_ltsb_x86_dvd_6850760.iso\n",
            "\n",
            "Status Legend:\n",
            "(ERR):error occurred.(INPR):download in-progress.\n",
            "\n",
            "aria2 will resume download if the transfer is restarted.\n",
            "If there are any errors, then see the log file. See '-l' option in help/man page for details.\n"
          ]
        }
      ]
    },
    {
      "cell_type": "markdown",
      "metadata": {
        "id": "tqKcWHZcYRIA"
      },
      "source": [
        "### Code to download torrent\n",
        "Variable **link** stores the link string."
      ]
    },
    {
      "cell_type": "code",
      "metadata": {
        "outputId": "54467290-b486-4853-88d1-efcdf9fd297e",
        "id": "b09BxnANO2ep",
        "colab": {
          "base_uri": "https://localhost:8080/"
        }
      },
      "source": [
        "!aria2c --max-concurrent-downloads=50 --max-connection-per-server=16  -i /content/list3.txt -d \"/content/drive/Shareddrives/Windows parte 3\""
      ],
      "execution_count": 3,
      "outputs": [
        {
          "output_type": "stream",
          "name": "stdout",
          "text": [
            "\n",
            "02/19 14:32:57 [\u001b[1;32mNOTICE\u001b[0m] Downloading 20 item(s)\n",
            "\u001b[0m\n",
            "02/19 14:32:58 [\u001b[1;31mERROR\u001b[0m] CUID#10 - Download aborted. URI=https://stuff.mtt-m1.workers.dev/Windows%2010/Windows%2010%20Enterprise%20LTSB%202015/hr_windows_10_enterprise_2015_ltsb_x86_dvd_6848434.iso\n",
            "Exception: [AbstractCommand.cc:351] errorCode=22 URI=https://stuff.mtt-m1.workers.dev/Windows%2010/Windows%2010%20Enterprise%20LTSB%202015/hr_windows_10_enterprise_2015_ltsb_x86_dvd_6848434.iso\n",
            "  -> [HttpSkipResponseCommand.cc:239] errorCode=22 The response status is not successful. status=500\n",
            "\n",
            "02/19 14:32:58 [\u001b[1;32mNOTICE\u001b[0m] Download GID#093833cd52331a0a not complete: \n",
            "\n",
            "02/19 14:32:58 [\u001b[1;31mERROR\u001b[0m] CUID#9 - Download aborted. URI=https://stuff.mtt-m1.workers.dev/Windows%2010/Windows%2010%20Enterprise%20LTSB%202015/hr_windows_10_enterprise_2015_ltsb_x64_dvd_6848433.iso\n",
            "Exception: [AbstractCommand.cc:351] errorCode=22 URI=https://stuff.mtt-m1.workers.dev/Windows%2010/Windows%2010%20Enterprise%20LTSB%202015/hr_windows_10_enterprise_2015_ltsb_x64_dvd_6848433.iso\n",
            "  -> [HttpSkipResponseCommand.cc:239] errorCode=22 The response status is not successful. status=500\n",
            "\n",
            "02/19 14:32:58 [\u001b[1;32mNOTICE\u001b[0m] Download GID#e2141b9badf44eb0 not complete: \n",
            "\n",
            "02/19 14:32:58 [\u001b[1;31mERROR\u001b[0m] CUID#22 - Download aborted. URI=https://stuff.mtt-m1.workers.dev/Windows%2010/Windows%2010%20Enterprise%20LTSB%202015/ko_windows_10_enterprise_2015_ltsb_kn_x86_dvd_6848339.iso\n",
            "Exception: [AbstractCommand.cc:351] errorCode=22 URI=https://stuff.mtt-m1.workers.dev/Windows%2010/Windows%2010%20Enterprise%20LTSB%202015/ko_windows_10_enterprise_2015_ltsb_kn_x86_dvd_6848339.iso\n",
            "  -> [HttpSkipResponseCommand.cc:239] errorCode=22 The response status is not successful. status=500\n",
            "\n",
            "02/19 14:32:58 [\u001b[1;32mNOTICE\u001b[0m] Download GID#10924ba587105a5b not complete: \n",
            "\n",
            "02/19 14:32:58 [\u001b[1;31mERROR\u001b[0m] CUID#11 - Download aborted. URI=https://stuff.mtt-m1.workers.dev/Windows%2010/Windows%2010%20Enterprise%20LTSB%202015/hu_windows_10_enterprise_2015_ltsb_n_x64_dvd_6848333.iso\n",
            "Exception: [AbstractCommand.cc:351] errorCode=22 URI=https://stuff.mtt-m1.workers.dev/Windows%2010/Windows%2010%20Enterprise%20LTSB%202015/hu_windows_10_enterprise_2015_ltsb_n_x64_dvd_6848333.iso\n",
            "  -> [HttpSkipResponseCommand.cc:239] errorCode=22 The response status is not successful. status=500\n",
            "\n",
            "02/19 14:32:58 [\u001b[1;32mNOTICE\u001b[0m] Download GID#0627272e5edf5656 not complete: \n",
            "\n",
            "02/19 14:32:58 [\u001b[1;31mERROR\u001b[0m] CUID#24 - Download aborted. URI=https://stuff.mtt-m1.workers.dev/Windows%2010/Windows%2010%20Enterprise%20LTSB%202015/ko_windows_10_enterprise_2015_ltsb_x86_dvd_6850777.iso\n",
            "Exception: [AbstractCommand.cc:351] errorCode=22 URI=https://stuff.mtt-m1.workers.dev/Windows%2010/Windows%2010%20Enterprise%20LTSB%202015/ko_windows_10_enterprise_2015_ltsb_x86_dvd_6850777.iso\n",
            "  -> [HttpSkipResponseCommand.cc:239] errorCode=22 The response status is not successful. status=500\n",
            "\n",
            "02/19 14:32:58 [\u001b[1;32mNOTICE\u001b[0m] Download GID#48fe6e3635b3a11c not complete: \n",
            "\n",
            "02/19 14:32:58 [\u001b[1;31mERROR\u001b[0m] CUID#16 - Download aborted. URI=https://stuff.mtt-m1.workers.dev/Windows%2010/Windows%2010%20Enterprise%20LTSB%202015/it_windows_10_enterprise_2015_ltsb_n_x86_dvd_6848336.iso\n",
            "Exception: [AbstractCommand.cc:351] errorCode=22 URI=https://stuff.mtt-m1.workers.dev/Windows%2010/Windows%2010%20Enterprise%20LTSB%202015/it_windows_10_enterprise_2015_ltsb_n_x86_dvd_6848336.iso\n",
            "  -> [HttpSkipResponseCommand.cc:239] errorCode=22 The response status is not successful. status=500\n",
            "\n",
            "02/19 14:32:58 [\u001b[1;32mNOTICE\u001b[0m] Download GID#e8f97461cedde259 not complete: \n",
            "\n",
            "02/19 14:32:58 [\u001b[1;31mERROR\u001b[0m] CUID#14 - Download aborted. URI=https://stuff.mtt-m1.workers.dev/Windows%2010/Windows%2010%20Enterprise%20LTSB%202015/hu_windows_10_enterprise_2015_ltsb_x86_dvd_6850771.iso\n",
            "Exception: [AbstractCommand.cc:351] errorCode=22 URI=https://stuff.mtt-m1.workers.dev/Windows%2010/Windows%2010%20Enterprise%20LTSB%202015/hu_windows_10_enterprise_2015_ltsb_x86_dvd_6850771.iso\n",
            "  -> [HttpSkipResponseCommand.cc:239] errorCode=22 The response status is not successful. status=500\n",
            "\n",
            "02/19 14:32:58 [\u001b[1;32mNOTICE\u001b[0m] Download GID#83b7a1918688d7f5 not complete: \n",
            "\n",
            "02/19 14:32:58 [\u001b[1;31mERROR\u001b[0m] CUID#12 - Download aborted. URI=https://stuff.mtt-m1.workers.dev/Windows%2010/Windows%2010%20Enterprise%20LTSB%202015/hu_windows_10_enterprise_2015_ltsb_n_x86_dvd_6848334.iso\n",
            "Exception: [AbstractCommand.cc:351] errorCode=22 URI=https://stuff.mtt-m1.workers.dev/Windows%2010/Windows%2010%20Enterprise%20LTSB%202015/hu_windows_10_enterprise_2015_ltsb_n_x86_dvd_6848334.iso\n",
            "  -> [HttpSkipResponseCommand.cc:239] errorCode=22 The response status is not successful. status=500\n",
            "\n",
            "02/19 14:32:58 [\u001b[1;32mNOTICE\u001b[0m] Download GID#f4897008ceac5adf not complete: \n",
            "\n",
            "02/19 14:32:58 [\u001b[1;31mERROR\u001b[0m] CUID#21 - Download aborted. URI=https://stuff.mtt-m1.workers.dev/Windows%2010/Windows%2010%20Enterprise%20LTSB%202015/ko_windows_10_enterprise_2015_ltsb_kn_x64_dvd_6848338.iso\n",
            "Exception: [AbstractCommand.cc:351] errorCode=22 URI=https://stuff.mtt-m1.workers.dev/Windows%2010/Windows%2010%20Enterprise%20LTSB%202015/ko_windows_10_enterprise_2015_ltsb_kn_x64_dvd_6848338.iso\n",
            "  -> [HttpSkipResponseCommand.cc:239] errorCode=22 The response status is not successful. status=500\n",
            "\n",
            "02/19 14:32:58 [\u001b[1;32mNOTICE\u001b[0m] Download GID#d001c1af977435af not complete: \n",
            "\n",
            "02/19 14:32:58 [\u001b[1;31mERROR\u001b[0m] CUID#19 - Download aborted. URI=https://stuff.mtt-m1.workers.dev/Windows%2010/Windows%2010%20Enterprise%20LTSB%202015/ja_windows_10_enterprise_2015_ltsb_x64_dvd_6850774.iso\n",
            "Exception: [AbstractCommand.cc:351] errorCode=22 URI=https://stuff.mtt-m1.workers.dev/Windows%2010/Windows%2010%20Enterprise%20LTSB%202015/ja_windows_10_enterprise_2015_ltsb_x64_dvd_6850774.iso\n",
            "  -> [HttpSkipResponseCommand.cc:239] errorCode=22 The response status is not successful. status=500\n",
            "\n",
            "02/19 14:32:58 [\u001b[1;32mNOTICE\u001b[0m] Download GID#2026f05020e6c2c5 not complete: \n",
            "\n",
            "02/19 14:32:58 [\u001b[1;31mERROR\u001b[0m] CUID#25 - Download aborted. URI=https://stuff.mtt-m1.workers.dev/Windows%2010/Windows%2010%20Enterprise%20LTSB%202015/lt_windows_10_enterprise_2015_ltsb_n_x64_dvd_6848352.iso\n",
            "Exception: [AbstractCommand.cc:351] errorCode=22 URI=https://stuff.mtt-m1.workers.dev/Windows%2010/Windows%2010%20Enterprise%20LTSB%202015/lt_windows_10_enterprise_2015_ltsb_n_x64_dvd_6848352.iso\n",
            "  -> [HttpSkipResponseCommand.cc:239] errorCode=22 The response status is not successful. status=500\n",
            "\n",
            "02/19 14:32:58 [\u001b[1;32mNOTICE\u001b[0m] Download GID#d90006c405a81f92 not complete: \n",
            "\n",
            "02/19 14:32:58 [\u001b[1;31mERROR\u001b[0m] CUID#18 - Download aborted. URI=https://stuff.mtt-m1.workers.dev/Windows%2010/Windows%2010%20Enterprise%20LTSB%202015/it_windows_10_enterprise_2015_ltsb_x86_dvd_6850773.iso\n",
            "Exception: [AbstractCommand.cc:351] errorCode=22 URI=https://stuff.mtt-m1.workers.dev/Windows%2010/Windows%2010%20Enterprise%20LTSB%202015/it_windows_10_enterprise_2015_ltsb_x86_dvd_6850773.iso\n",
            "  -> [HttpSkipResponseCommand.cc:239] errorCode=22 The response status is not successful. status=500\n",
            "\n",
            "02/19 14:32:58 [\u001b[1;32mNOTICE\u001b[0m] Download GID#21b4c9fd04ece587 not complete: \n",
            "\n",
            "02/19 14:32:59 [\u001b[1;32mNOTICE\u001b[0m] Allocating disk space. Use --file-allocation=none to disable it. See --file-allocation option in man page for more details.\n",
            "\u001b[0m\n",
            "02/19 14:33:00 [\u001b[1;32mNOTICE\u001b[0m] Shutdown sequence commencing... Press Ctrl-C again for emergency shutdown.\n",
            "\n",
            "02/19 14:33:00 [\u001b[1;32mNOTICE\u001b[0m] Download GID#2a6864d6621c77de not complete: /content/drive/Shareddrives/Windows parte 3/ko_windows_10_enterprise_2015_ltsb_x64_dvd_6850776.iso\n",
            "\n",
            "Download Results:\n",
            "gid   |stat|avg speed  |path/URI\n",
            "======+====+===========+=======================================================\n",
            "093833|\u001b[1;31mERR\u001b[0m |       0B/s|https://stuff.mtt-m1.workers.dev/Windows%2010/Windows%2010%20Enterprise%20LTSB%202015/hr_windows_10_enterprise_2015_ltsb_x86_dvd_6848434.iso\n",
            "e2141b|\u001b[1;31mERR\u001b[0m |       0B/s|https://stuff.mtt-m1.workers.dev/Windows%2010/Windows%2010%20Enterprise%20LTSB%202015/hr_windows_10_enterprise_2015_ltsb_x64_dvd_6848433.iso\n",
            "10924b|\u001b[1;31mERR\u001b[0m |       0B/s|https://stuff.mtt-m1.workers.dev/Windows%2010/Windows%2010%20Enterprise%20LTSB%202015/ko_windows_10_enterprise_2015_ltsb_kn_x86_dvd_6848339.iso\n",
            "062727|\u001b[1;31mERR\u001b[0m |       0B/s|https://stuff.mtt-m1.workers.dev/Windows%2010/Windows%2010%20Enterprise%20LTSB%202015/hu_windows_10_enterprise_2015_ltsb_n_x64_dvd_6848333.iso\n",
            "48fe6e|\u001b[1;31mERR\u001b[0m |       0B/s|https://stuff.mtt-m1.workers.dev/Windows%2010/Windows%2010%20Enterprise%20LTSB%202015/ko_windows_10_enterprise_2015_ltsb_x86_dvd_6850777.iso\n",
            "e8f974|\u001b[1;31mERR\u001b[0m |       0B/s|https://stuff.mtt-m1.workers.dev/Windows%2010/Windows%2010%20Enterprise%20LTSB%202015/it_windows_10_enterprise_2015_ltsb_n_x86_dvd_6848336.iso\n",
            "83b7a1|\u001b[1;31mERR\u001b[0m |       0B/s|https://stuff.mtt-m1.workers.dev/Windows%2010/Windows%2010%20Enterprise%20LTSB%202015/hu_windows_10_enterprise_2015_ltsb_x86_dvd_6850771.iso\n",
            "f48970|\u001b[1;31mERR\u001b[0m |       0B/s|https://stuff.mtt-m1.workers.dev/Windows%2010/Windows%2010%20Enterprise%20LTSB%202015/hu_windows_10_enterprise_2015_ltsb_n_x86_dvd_6848334.iso\n",
            "d001c1|\u001b[1;31mERR\u001b[0m |       0B/s|https://stuff.mtt-m1.workers.dev/Windows%2010/Windows%2010%20Enterprise%20LTSB%202015/ko_windows_10_enterprise_2015_ltsb_kn_x64_dvd_6848338.iso\n",
            "2026f0|\u001b[1;31mERR\u001b[0m |       0B/s|https://stuff.mtt-m1.workers.dev/Windows%2010/Windows%2010%20Enterprise%20LTSB%202015/ja_windows_10_enterprise_2015_ltsb_x64_dvd_6850774.iso\n",
            "d90006|\u001b[1;31mERR\u001b[0m |       0B/s|https://stuff.mtt-m1.workers.dev/Windows%2010/Windows%2010%20Enterprise%20LTSB%202015/lt_windows_10_enterprise_2015_ltsb_n_x64_dvd_6848352.iso\n",
            "21b4c9|\u001b[1;31mERR\u001b[0m |       0B/s|https://stuff.mtt-m1.workers.dev/Windows%2010/Windows%2010%20Enterprise%20LTSB%202015/it_windows_10_enterprise_2015_ltsb_x86_dvd_6850773.iso\n",
            "2a6864|\u001b[1;34mINPR\u001b[0m|       0B/s|/content/drive/Shareddrives/Windows parte 3/ko_windows_10_enterprise_2015_ltsb_x64_dvd_6850776.iso\n",
            "\n",
            "Status Legend:\n",
            "(ERR):error occurred.(INPR):download in-progress.\n",
            "\n",
            "aria2 will resume download if the transfer is restarted.\n",
            "If there are any errors, then see the log file. See '-l' option in help/man page for details.\n"
          ]
        }
      ]
    }
  ]
}